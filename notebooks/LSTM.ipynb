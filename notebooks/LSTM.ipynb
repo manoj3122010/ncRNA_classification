{
 "cells": [
  {
   "cell_type": "code",
   "execution_count": 12,
   "id": "c3bbf4cc-089c-47b5-8aef-aaae9820146e",
   "metadata": {},
   "outputs": [],
   "source": [
    "import pandas as pd\n",
    "import numpy as np\n",
    "import torch\n",
    "import torch.nn as nn\n",
    "import torch.optim as optim\n",
    "from sklearn.feature_extraction.text import CountVectorizer\n",
    "from sklearn.preprocessing import LabelEncoder\n",
    "from sklearn.model_selection import train_test_split\n",
    "from sklearn.preprocessing import StandardScaler\n",
    "from sklearn.metrics import classification_report, confusion_matrix\n",
    "import matplotlib.pyplot as plt\n",
    "import seaborn as sns\n",
    "from torch.utils.data import DataLoader, Dataset, TensorDataset"
   ]
  },
  {
   "cell_type": "code",
   "execution_count": 13,
   "id": "2fd05783-5d94-4b34-ad27-fcc7e0520bd6",
   "metadata": {},
   "outputs": [],
   "source": [
    "# Load and encode data\n",
    "df = pd.read_csv('/home/myoui/shared/ML/gene_list_para.csv')\n",
    "label_encoder = LabelEncoder()\n",
    "df['gene_type_encoded'] = label_encoder.fit_transform(df['gene_type'])\n",
    "vectorizer = CountVectorizer()\n",
    "X_kmers = vectorizer.fit_transform(df['kmers']).toarray()\n",
    "X_numerical = df[['gc_content', 'seq_length', 'mfe', 'dot_count', 'bracket_count']].values"
   ]
  },
  {
   "cell_type": "code",
   "execution_count": 14,
   "id": "513e4700-3f1b-4ea6-8d8d-ccd5810a8152",
   "metadata": {},
   "outputs": [],
   "source": [
    "# Encode sequences\n",
    "sequence_map = {'A': 1, 'C': 2, 'G': 3, 'T': 4}\n",
    "X_sequence = df['sequence'].apply(\n",
    "    lambda seq: [sequence_map.get(base, 0) for base in seq]\n",
    ")\n",
    "max_seq_length = 1000  # Adjust based on dataset\n",
    "X_sequence = np.array([np.pad(seq[:max_seq_length], (0, max(0, max_seq_length - len(seq))), 'constant') for seq in X_sequence])\n",
    "\n",
    "# Combine k-mer and numerical features\n",
    "X_kmer_numerical = np.hstack([X_kmers, X_numerical])"
   ]
  },
  {
   "cell_type": "code",
   "execution_count": 15,
   "id": "74c53e34-1a4f-4cdd-adcf-55e490867bb6",
   "metadata": {},
   "outputs": [
    {
     "name": "stdout",
     "output_type": "stream",
     "text": [
      "gene_type\n",
      "lncRNA    1119\n",
      "snoRNA       2\n",
      "Name: count, dtype: int64\n"
     ]
    }
   ],
   "source": [
    "# Sequences with length above 750\n",
    "above750 = df[df['seq_length'] > 750]\n",
    "counts_750 = above750['gene_type'].value_counts()\n",
    "print(counts_750)"
   ]
  },
  {
   "cell_type": "code",
   "execution_count": 16,
   "id": "ad18958e-cfdd-4b58-9c5a-423b8fc77633",
   "metadata": {},
   "outputs": [
    {
     "name": "stdout",
     "output_type": "stream",
     "text": [
      "gene_type\n",
      "lncRNA    729\n",
      "Name: count, dtype: int64\n"
     ]
    }
   ],
   "source": [
    "# Sequences with length above 1000\n",
    "above1000 = df[df['seq_length'] > 1000]\n",
    "counts_1000 = above1000['gene_type'].value_counts()\n",
    "print(counts_1000)"
   ]
  },
  {
   "cell_type": "code",
   "execution_count": 17,
   "id": "1a4ec46c-736d-4a76-b977-552dd0210266",
   "metadata": {},
   "outputs": [],
   "source": [
    "# Train-test split\n",
    "X_train_kmer, X_test_kmer, X_train_seq, X_test_seq, y_train, y_test = train_test_split(\n",
    "    X_kmer_numerical, X_sequence, df['gene_type_encoded'], test_size=0.2, random_state=42\n",
    ")\n",
    "\n",
    "# Scale k-mer and numerical features\n",
    "scaler = StandardScaler()\n",
    "X_train_kmer = scaler.fit_transform(X_train_kmer)\n",
    "X_test_kmer = scaler.transform(X_test_kmer)"
   ]
  },
  {
   "cell_type": "code",
   "execution_count": 18,
   "id": "3e88a3e9-da77-4a8c-9d3a-7fb1c4f8981d",
   "metadata": {},
   "outputs": [],
   "source": [
    "# Define Dataset class\n",
    "class GeneDataset(Dataset):\n",
    "    def __init__(self, X_kmer, X_seq, y):\n",
    "        self.X_kmer = torch.tensor(X_kmer, dtype=torch.float32)\n",
    "        self.X_seq = torch.tensor(X_seq, dtype=torch.long)\n",
    "        self.y = torch.tensor(y.values, dtype=torch.long)\n",
    "    \n",
    "    def __len__(self):\n",
    "        return len(self.y)\n",
    "    \n",
    "    def __getitem__(self, idx):\n",
    "        return self.X_kmer[idx], self.X_seq[idx], self.y[idx]\n",
    "\n",
    "# DataLoaders\n",
    "train_dataset = GeneDataset(X_train_kmer, X_train_seq, y_train)\n",
    "test_dataset = GeneDataset(X_test_kmer, X_test_seq, y_test)\n",
    "train_loader = DataLoader(train_dataset, batch_size=32, shuffle=True)\n",
    "test_loader = DataLoader(test_dataset, batch_size=32, shuffle=False)"
   ]
  },
  {
   "cell_type": "code",
   "execution_count": 19,
   "id": "3d672c27-726c-4c2f-aa74-ff8d947a2f94",
   "metadata": {},
   "outputs": [],
   "source": [
    "# Model definition\n",
    "class HybridLSTM(nn.Module):\n",
    "    def __init__(self, kmer_input_size, seq_vocab_size, seq_embed_size, seq_hidden_size, num_classes):\n",
    "        super(HybridLSTM, self).__init__()\n",
    "        # K-mer and numerical features branch\n",
    "        self.fc_kmer = nn.Sequential(\n",
    "            nn.Linear(kmer_input_size, 128),\n",
    "            nn.ReLU(),\n",
    "            nn.Dropout(0.3)\n",
    "        )\n",
    "        \n",
    "        # Sequence LSTM branch\n",
    "        self.embedding = nn.Embedding(seq_vocab_size, seq_embed_size, padding_idx=0)\n",
    "        self.lstm = nn.LSTM(seq_embed_size, seq_hidden_size, batch_first=True, bidirectional=True)\n",
    "        \n",
    "        # Combined layers\n",
    "        self.fc_combined = nn.Sequential(\n",
    "            nn.Linear(128 + 2 * seq_hidden_size, 64),\n",
    "            nn.ReLU(),\n",
    "            nn.Dropout(0.3),\n",
    "            nn.Linear(64, num_classes)\n",
    "        )\n",
    "    \n",
    "    def forward(self, x_kmer, x_seq):\n",
    "        x_kmer_out = self.fc_kmer(x_kmer)\n",
    "        \n",
    "        # Process sequence with LSTM\n",
    "        x_seq_embed = self.embedding(x_seq)\n",
    "        _, (h_n, _) = self.lstm(x_seq_embed)\n",
    "        x_seq_out = torch.cat((h_n[0], h_n[1]), dim=1) \n",
    "        \n",
    "        # Concatenate and classify\n",
    "        x_combined = torch.cat([x_kmer_out, x_seq_out], dim=1)\n",
    "        output = self.fc_combined(x_combined)\n",
    "        return output"
   ]
  },
  {
   "cell_type": "code",
   "execution_count": 20,
   "id": "ac1c56cd-e3c4-4272-ac43-6410f4eadc87",
   "metadata": {},
   "outputs": [],
   "source": [
    "# Model parameters\n",
    "kmer_input_size = X_train_kmer.shape[1]\n",
    "seq_vocab_size = len(sequence_map) + 1  \n",
    "seq_embed_size = 64\n",
    "seq_hidden_size = 128\n",
    "num_classes = len(label_encoder.classes_)\n",
    "\n",
    "# Model instantiation\n",
    "device = torch.device(\"cuda\" if torch.cuda.is_available() else \"cpu\")\n",
    "model = HybridLSTM(kmer_input_size, seq_vocab_size, seq_embed_size, seq_hidden_size, num_classes).to(device)\n",
    "\n",
    "# Loss and optimizer\n",
    "criterion = nn.CrossEntropyLoss()\n",
    "optimizer = optim.Adam(model.parameters(), lr=0.001)"
   ]
  },
  {
   "cell_type": "code",
   "execution_count": 21,
   "id": "b7528c94-fdb7-48b5-becd-44f1cc4c7a0d",
   "metadata": {},
   "outputs": [],
   "source": [
    "# Training loop\n",
    "def train_model(model, train_loader, criterion, optimizer, epochs=20):\n",
    "    model.train()\n",
    "    for epoch in range(epochs):\n",
    "        epoch_loss = 0\n",
    "        for X_kmer, X_seq, labels in train_loader:\n",
    "            X_kmer, X_seq, labels = X_kmer.to(device), X_seq.to(device), labels.to(device)\n",
    "            \n",
    "            optimizer.zero_grad()\n",
    "            outputs = model(X_kmer, X_seq)\n",
    "            loss = criterion(outputs, labels)\n",
    "            loss.backward()\n",
    "            optimizer.step()\n",
    "            \n",
    "            epoch_loss += loss.item()\n",
    "        print(f\"Epoch {epoch+1}/{epochs}, Loss: {epoch_loss/len(train_loader):.4f}\")"
   ]
  },
  {
   "cell_type": "code",
   "execution_count": 22,
   "id": "f17f398b-9c56-47dc-845e-5a9ebab61295",
   "metadata": {},
   "outputs": [],
   "source": [
    "# Evaluate function\n",
    "def evaluate_model_with_classification_report(model, test_loader):\n",
    "    model.eval()\n",
    "    all_labels = []\n",
    "    all_predictions = []\n",
    "    with torch.no_grad():\n",
    "        for X_kmer, X_seq, labels in test_loader:\n",
    "            X_kmer, X_seq, labels = X_kmer.to(device), X_seq.to(device), labels.to(device)\n",
    "            outputs = model(X_kmer, X_seq)\n",
    "            _, predicted = torch.max(outputs, 1)\n",
    "            all_labels.extend(labels.cpu().numpy())\n",
    "            all_predictions.extend(predicted.cpu().numpy())\n",
    "    \n",
    "    print(classification_report(all_labels, all_predictions, target_names=label_encoder.classes_))\n",
    "    conf_matrix = confusion_matrix(all_labels, all_predictions)\n",
    "    plt.figure(figsize=(10, 8))\n",
    "    sns.heatmap(conf_matrix, annot=True, fmt='d', cmap='Blues', xticklabels=label_encoder.classes_,\n",
    "                yticklabels=label_encoder.classes_)\n",
    "    plt.title('Confusion Matrix')\n",
    "    plt.xlabel('Predicted')\n",
    "    plt.ylabel('Actual')\n",
    "    plt.show()"
   ]
  },
  {
   "cell_type": "code",
   "execution_count": 23,
   "id": "c4404996-034e-4ef9-861f-68ae8e6a3db3",
   "metadata": {},
   "outputs": [
    {
     "name": "stdout",
     "output_type": "stream",
     "text": [
      "Epoch 1/20, Loss: 0.3766\n",
      "Epoch 2/20, Loss: 0.1081\n",
      "Epoch 3/20, Loss: 0.0465\n",
      "Epoch 4/20, Loss: 0.0247\n",
      "Epoch 5/20, Loss: 0.0156\n",
      "Epoch 6/20, Loss: 0.0218\n",
      "Epoch 7/20, Loss: 0.0205\n",
      "Epoch 8/20, Loss: 0.0357\n",
      "Epoch 9/20, Loss: 0.0146\n",
      "Epoch 10/20, Loss: 0.0156\n",
      "Epoch 11/20, Loss: 0.0107\n",
      "Epoch 12/20, Loss: 0.0158\n",
      "Epoch 13/20, Loss: 0.0096\n",
      "Epoch 14/20, Loss: 0.0099\n",
      "Epoch 15/20, Loss: 0.0083\n",
      "Epoch 16/20, Loss: 0.0095\n",
      "Epoch 17/20, Loss: 0.0210\n",
      "Epoch 18/20, Loss: 0.0137\n",
      "Epoch 19/20, Loss: 0.0086\n",
      "Epoch 20/20, Loss: 0.0167\n",
      "              precision    recall  f1-score   support\n",
      "\n",
      "      lncRNA       0.99      0.97      0.98       418\n",
      "       miRNA       0.83      0.91      0.87       388\n",
      "    misc_RNA       0.98      0.90      0.94       479\n",
      "       snRNA       0.98      0.97      0.97       376\n",
      "      snoRNA       0.78      0.83      0.80       198\n",
      "\n",
      "    accuracy                           0.92      1859\n",
      "   macro avg       0.91      0.92      0.91      1859\n",
      "weighted avg       0.93      0.92      0.93      1859\n",
      "\n"
     ]
    },
    {
     "data": {
      "image/png": "[encoded data removed]",
      "text/plain": [
       "<Figure size 1000x800 with 2 Axes>"
      ]
     },
     "metadata": {},
     "output_type": "display_data"
    }
   ],
   "source": [
    "# Train and evaluate\n",
    "train_model(model, train_loader, criterion, optimizer, epochs=20)\n",
    "evaluate_model_with_classification_report(model, test_loader)"
   ]
  },
  {
   "cell_type": "code",
   "execution_count": null,
   "id": "9c22807a-ee1b-4800-afa5-21be9c6ab0ff",
   "metadata": {},
   "outputs": [],
   "source": [
    " "
   ]
  }
 ],
 "metadata": {
  "kernelspec": {
   "display_name": "ml-pytorch",
   "language": "python",
   "name": "ml"
  },
  "language_info": {
   "codemirror_mode": {
    "name": "ipython",
    "version": 3
   },
   "file_extension": ".py",
   "mimetype": "text/x-python",
   "name": "python",
   "nbconvert_exporter": "python",
   "pygments_lexer": "ipython3",
   "version": "3.9.20"
  }
 },
 "nbformat": 4,
 "nbformat_minor": 5
}
