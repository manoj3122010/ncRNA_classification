{
 "cells": [
  {
   "cell_type": "code",
   "execution_count": 1,
   "id": "db0c53e3-b907-4193-9223-0a809571a9b3",
   "metadata": {},
   "outputs": [],
   "source": [
    "import pandas as pd\n",
    "import numpy as np\n",
    "import torch\n",
    "import torch.nn as nn\n",
    "import torch.optim as optim\n",
    "from torch.utils.data import DataLoader, Dataset\n",
    "from sklearn.utils.class_weight import compute_class_weight\n",
    "from sklearn.preprocessing import StandardScaler, LabelEncoder\n",
    "from sklearn.model_selection import train_test_split\n",
    "from sklearn.feature_extraction.text import CountVectorizer\n",
    "from sklearn.utils.class_weight import compute_class_weight\n",
    "import matplotlib.pyplot as plt\n",
    "import seaborn as sns\n",
    "from sklearn.metrics import classification_report, confusion_matrix"
   ]
  },
  {
   "cell_type": "code",
   "execution_count": 2,
   "id": "2c003dfa-bf02-4602-9fc8-c63c76f0cf33",
   "metadata": {},
   "outputs": [],
   "source": [
    "df = pd.read_csv('/home/myoui/shared/ML/gene_list_para.csv')"
   ]
  },
  {
   "cell_type": "code",
   "execution_count": 3,
   "id": "4be75f6f-3e2e-4ca2-bca9-e4a0c901d0d2",
   "metadata": {},
   "outputs": [],
   "source": [
    "label_encoder = LabelEncoder()\n",
    "df['gene_type_encoded'] = label_encoder.fit_transform(df['gene_type'])"
   ]
  },
  {
   "cell_type": "code",
   "execution_count": 4,
   "id": "6c580396-0045-4b8d-afc8-40c106804201",
   "metadata": {},
   "outputs": [],
   "source": [
    "# Vectorize the 'kmers' feature using CountVectorizer\n",
    "vectorizer = CountVectorizer()\n",
    "X_kmers = vectorizer.fit_transform(df['kmers'])\n",
    "X_kmers_df = pd.DataFrame(X_kmers.toarray(), columns=vectorizer.get_feature_names_out())\n",
    "X_kmers_df.reset_index(drop=True, inplace=True)"
   ]
  },
  {
   "cell_type": "code",
   "execution_count": 5,
   "id": "518b278e-84af-452d-bc31-4310dbc00ad5",
   "metadata": {},
   "outputs": [],
   "source": [
    "X_numerical = df[['gc_content', 'seq_length', 'mfe', 'dot_count', 'bracket_count']]\n",
    "X = pd.concat([X_numerical.reset_index(drop=True), X_kmers_df], axis=1)\n",
    "y = df['gene_type_encoded']"
   ]
  },
  {
   "cell_type": "code",
   "execution_count": 6,
   "id": "138ff93d-0fd5-4afd-bf8d-4550e90d4f8d",
   "metadata": {},
   "outputs": [],
   "source": [
    "X_train, X_test, y_train, y_test = train_test_split(X, y, test_size=0.2, random_state=42)"
   ]
  },
  {
   "cell_type": "code",
   "execution_count": 7,
   "id": "67f205e7-aa50-4151-9ceb-f859f3d27d99",
   "metadata": {},
   "outputs": [],
   "source": [
    "scaler = StandardScaler()\n",
    "X_train = scaler.fit_transform(X_train)\n",
    "X_test = scaler.transform(X_test)"
   ]
  },
  {
   "cell_type": "code",
   "execution_count": 8,
   "id": "580cfc49-ed0f-4745-b83e-9933940bc9b3",
   "metadata": {},
   "outputs": [],
   "source": [
    "# Convert y_train and y_test to numpy arrays\n",
    "y_train = y_train.values\n",
    "y_test = y_test.values"
   ]
  },
  {
   "cell_type": "code",
   "execution_count": 9,
   "id": "6729bb54-025b-49ee-9448-2e0f2bd1c435",
   "metadata": {},
   "outputs": [],
   "source": [
    "class GeneDataset(Dataset):\n",
    "    def __init__(self, X, y):\n",
    "        self.X = torch.tensor(X, dtype=torch.float32)\n",
    "        self.y = torch.tensor(y, dtype=torch.long)\n",
    "    \n",
    "    def __len__(self):\n",
    "        return len(self.y)\n",
    "    \n",
    "    def __getitem__(self, idx):\n",
    "        return self.X[idx], self.y[idx]\n",
    "\n",
    "# Create DataLoader instances with the standardized data\n",
    "train_dataset = GeneDataset(X_train, y_train)\n",
    "test_dataset = GeneDataset(X_test, y_test)\n",
    "train_loader = DataLoader(train_dataset, batch_size=32, shuffle=True)\n",
    "test_loader = DataLoader(test_dataset, batch_size=32, shuffle=False)"
   ]
  },
  {
   "cell_type": "code",
   "execution_count": 10,
   "id": "36f4b0e4-b080-4466-bd90-a35d9c7f93a1",
   "metadata": {},
   "outputs": [],
   "source": [
    "device = torch.device(\"cuda\" if torch.cuda.is_available() else \"cpu\")\n",
    "\n",
    "class TransformerClassifier(nn.Module):\n",
    "    def __init__(self, input_size, embed_size, num_classes, num_heads, num_layers, dropout=0.1):\n",
    "        super(TransformerClassifier, self).__init__()\n",
    "        self.embedding = nn.Linear(input_size, embed_size)\n",
    "        encoder_layers = nn.TransformerEncoderLayer(\n",
    "            d_model=embed_size, nhead=num_heads, dropout=dropout, batch_first=True\n",
    "        )\n",
    "        self.transformer_encoder = nn.TransformerEncoder(encoder_layers, num_layers=num_layers)\n",
    "        self.fc = nn.Linear(embed_size, num_classes)\n",
    "        \n",
    "    def forward(self, x):\n",
    "        x = self.embedding(x).unsqueeze(1)  \n",
    "        x = self.transformer_encoder(x)\n",
    "        x = x[:, 0, :]  \n",
    "        x = self.fc(x)\n",
    "        return x\n",
    "\n",
    "# Parameters\n",
    "input_size = X_train.shape[1]\n",
    "embed_size = 64\n",
    "num_classes = len(set(y))\n",
    "num_heads = 4\n",
    "num_layers = 2\n",
    "\n",
    "# Instantiate and send model to device\n",
    "model = TransformerClassifier(input_size=input_size, embed_size=embed_size, num_classes=num_classes,\n",
    "                              num_heads=num_heads, num_layers=num_layers, dropout=0.1).to(device)\n"
   ]
  },
  {
   "cell_type": "code",
   "execution_count": 11,
   "id": "4736d22e-50ee-44c7-9c58-01589cc49c7f",
   "metadata": {},
   "outputs": [],
   "source": [
    "class_weights = compute_class_weight('balanced', classes=np.unique(y_train), y=y_train)\n",
    "weights = torch.tensor(class_weights, dtype=torch.float32).to(device)\n",
    "\n",
    "# Define criterion and optimizer\n",
    "criterion = nn.CrossEntropyLoss(weight=weights)\n",
    "optimizer = optim.Adam(model.parameters(), lr=0.001)"
   ]
  },
  {
   "cell_type": "code",
   "execution_count": 12,
   "id": "8ace38ac-3c20-4120-8fa2-b38109ab37da",
   "metadata": {},
   "outputs": [
    {
     "name": "stdout",
     "output_type": "stream",
     "text": [
      "Epoch 1/20, Loss: 0.4398\n",
      "Epoch 2/20, Loss: 0.1633\n",
      "Epoch 3/20, Loss: 0.1065\n",
      "Epoch 4/20, Loss: 0.0881\n",
      "Epoch 5/20, Loss: 0.0529\n",
      "Epoch 6/20, Loss: 0.0376\n",
      "Epoch 7/20, Loss: 0.0403\n",
      "Epoch 8/20, Loss: 0.0453\n",
      "Epoch 9/20, Loss: 0.0376\n",
      "Epoch 10/20, Loss: 0.0304\n",
      "Epoch 11/20, Loss: 0.0236\n",
      "Epoch 12/20, Loss: 0.0131\n",
      "Epoch 13/20, Loss: 0.0077\n",
      "Epoch 14/20, Loss: 0.0158\n",
      "Epoch 15/20, Loss: 0.0402\n",
      "Epoch 16/20, Loss: 0.0235\n",
      "Epoch 17/20, Loss: 0.0196\n",
      "Epoch 18/20, Loss: 0.0116\n",
      "Epoch 19/20, Loss: 0.0098\n",
      "Epoch 20/20, Loss: 0.0292\n"
     ]
    }
   ],
   "source": [
    "def train_model(model, train_loader, criterion, optimizer, epochs=20):\n",
    "    model.train()\n",
    "    for epoch in range(epochs):\n",
    "        epoch_loss = 0\n",
    "        for inputs, labels in train_loader:\n",
    "            inputs, labels = inputs.to(device), labels.to(device)\n",
    "            optimizer.zero_grad()\n",
    "            outputs = model(inputs)\n",
    "            loss = criterion(outputs, labels)\n",
    "            loss.backward()\n",
    "            optimizer.step()\n",
    "            epoch_loss += loss.item()\n",
    "        print(f'Epoch {epoch+1}/{epochs}, Loss: {epoch_loss/len(train_loader):.4f}')\n",
    "\n",
    "# Start training\n",
    "train_model(model, train_loader, criterion, optimizer)"
   ]
  },
  {
   "cell_type": "code",
   "execution_count": 13,
   "id": "6a93ede3-7870-4e80-be5b-96eb8b4faea1",
   "metadata": {},
   "outputs": [
    {
     "name": "stdout",
     "output_type": "stream",
     "text": [
      "              precision    recall  f1-score   support\n",
      "\n",
      "      lncRNA       0.98      0.98      0.98       418\n",
      "       miRNA       0.85      0.86      0.86       388\n",
      "    misc_RNA       0.98      0.90      0.94       479\n",
      "       snRNA       0.98      0.97      0.97       376\n",
      "      snoRNA       0.72      0.86      0.79       198\n",
      "\n",
      "    accuracy                           0.92      1859\n",
      "   macro avg       0.90      0.91      0.91      1859\n",
      "weighted avg       0.93      0.92      0.92      1859\n",
      "\n"
     ]
    },
    {
     "data": {
      "image/png": "[encoded data removed]",
      "text/plain": [
       "<Figure size 1000x800 with 2 Axes>"
      ]
     },
     "metadata": {},
     "output_type": "display_data"
    }
   ],
   "source": [
    "def evaluate_model_with_classification_report(model, test_loader):\n",
    "    model.eval()\n",
    "    all_labels = []\n",
    "    all_predictions = []\n",
    "    \n",
    "    with torch.no_grad():\n",
    "        for inputs, labels in test_loader:\n",
    "            inputs, labels = inputs.to(device), labels.to(device)\n",
    "            outputs = model(inputs)\n",
    "            _, predicted = torch.max(outputs, 1)\n",
    "            all_labels.extend(labels.cpu().numpy())\n",
    "            all_predictions.extend(predicted.cpu().numpy())\n",
    "    \n",
    "    # Classification report\n",
    "    print(classification_report(all_labels, all_predictions, target_names=label_encoder.classes_))\n",
    "\n",
    "    # Confusion matrix\n",
    "    conf_matrix = confusion_matrix(all_labels, all_predictions)\n",
    "    plt.figure(figsize=(10, 8))\n",
    "    sns.heatmap(conf_matrix, annot=True, fmt='d', cmap='Blues',\n",
    "                xticklabels=label_encoder.classes_,\n",
    "                yticklabels=label_encoder.classes_)\n",
    "    plt.title('Confusion Matrix Heatmap')\n",
    "    plt.xlabel('Predicted Class')\n",
    "    plt.ylabel('True Class')\n",
    "    plt.show()\n",
    "\n",
    "# Evaluate the model\n",
    "evaluate_model_with_classification_report(model, test_loader)"
   ]
  },
  {
   "cell_type": "code",
   "execution_count": null,
   "id": "d55344b2-89aa-4c62-bee9-185eb625e42d",
   "metadata": {},
   "outputs": [],
   "source": []
  }
 ],
 "metadata": {
  "kernelspec": {
   "display_name": "ml-pytorch",
   "language": "python",
   "name": "ml"
  },
  "language_info": {
   "codemirror_mode": {
    "name": "ipython",
    "version": 3
   },
   "file_extension": ".py",
   "mimetype": "text/x-python",
   "name": "python",
   "nbconvert_exporter": "python",
   "pygments_lexer": "ipython3",
   "version": "3.9.20"
  }
 },
 "nbformat": 4,
 "nbformat_minor": 5
}
