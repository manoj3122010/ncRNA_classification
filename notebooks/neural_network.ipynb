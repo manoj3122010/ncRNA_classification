{
 "cells": [
  {
   "cell_type": "code",
   "execution_count": 1,
   "id": "9a40128a-95fb-4560-8f0b-cb42691f2695",
   "metadata": {},
   "outputs": [],
   "source": [
    "import torch\n",
    "from torch.utils.data import Dataset, DataLoader\n",
    "import numpy as np\n",
    "import pandas as pd\n",
    "from sklearn.model_selection import train_test_split\n",
    "from sklearn.preprocessing import StandardScaler\n",
    "from sklearn.preprocessing import StandardScaler, LabelEncoder, MinMaxScaler\n",
    "from sklearn.feature_extraction.text import CountVectorizer\n",
    "from sklearn.metrics import classification_report, confusion_matrix\n",
    "import torch.nn as nn\n",
    "import torch.optim as optim\n",
    "import seaborn as sns\n",
    "import matplotlib.pyplot as plt"
   ]
  },
  {
   "cell_type": "code",
   "execution_count": 2,
   "id": "0e466c74-4f1a-4f2d-a4cb-844d80693ff4",
   "metadata": {},
   "outputs": [],
   "source": [
    "df = pd.read_csv('/home/myoui/shared/ML/gene_list_para.csv')"
   ]
  },
  {
   "cell_type": "code",
   "execution_count": 3,
   "id": "c3d4d069-bc65-49d9-ae74-9ecc056abba8",
   "metadata": {},
   "outputs": [],
   "source": [
    "label_encoder = LabelEncoder()\n",
    "df['gene_type_encoded'] = label_encoder.fit_transform(df['gene_type'])"
   ]
  },
  {
   "cell_type": "code",
   "execution_count": 4,
   "id": "e8582cd3-957c-4722-ae79-b27481592151",
   "metadata": {},
   "outputs": [],
   "source": [
    "# Vectorize the 'kmers' feature using CountVectorizer\n",
    "vectorizer = CountVectorizer()\n",
    "X_kmers = vectorizer.fit_transform(df['kmers'])\n",
    "X_kmers_df = pd.DataFrame(X_kmers.toarray(), columns=vectorizer.get_feature_names_out())\n",
    "X_kmers_df.reset_index(drop=True, inplace=True)"
   ]
  },
  {
   "cell_type": "code",
   "execution_count": 5,
   "id": "0c3356fc-8460-401c-9d52-aa75285229da",
   "metadata": {},
   "outputs": [],
   "source": [
    "# Combine numerical and kmer features\n",
    "X_numerical = df[['gc_content', 'seq_length', 'mfe', 'dot_count', 'bracket_count']]\n",
    "X = pd.concat([X_numerical.reset_index(drop=True), X_kmers_df], axis=1)\n",
    "y = df['gene_type_encoded']"
   ]
  },
  {
   "cell_type": "code",
   "execution_count": 6,
   "id": "ac81c33b-98b4-4169-8540-021bd6ad849c",
   "metadata": {},
   "outputs": [],
   "source": [
    "data = df"
   ]
  },
  {
   "cell_type": "code",
   "execution_count": 7,
   "id": "eea8285f-f877-47ca-8a07-fb60f2892e5a",
   "metadata": {},
   "outputs": [],
   "source": [
    "X_train, X_test, y_train, y_test = train_test_split(X, y, test_size=0.2, random_state=42)"
   ]
  },
  {
   "cell_type": "code",
   "execution_count": 8,
   "id": "69a833b6-9de3-4f36-93df-1ee56b9db47d",
   "metadata": {},
   "outputs": [],
   "source": [
    "# Convert y_train and y_test to numpy arrays\n",
    "y_train = y_train.values\n",
    "y_test = y_test.values"
   ]
  },
  {
   "cell_type": "code",
   "execution_count": 9,
   "id": "d802127c-9b73-40f5-8835-71cd73350fac",
   "metadata": {},
   "outputs": [],
   "source": [
    "scaler = StandardScaler()\n",
    "X_train = scaler.fit_transform(X_train)\n",
    "X_test = scaler.transform(X_test)"
   ]
  },
  {
   "cell_type": "code",
   "execution_count": 10,
   "id": "588a26f5-ebf2-4ef4-a449-3f0b72b81b7e",
   "metadata": {},
   "outputs": [],
   "source": [
    "# Dataset and DataLoader class\n",
    "class GeneDataset(Dataset):\n",
    "    def __init__(self, X_feat, y):\n",
    "        self.X_feat = torch.tensor(X_feat, dtype=torch.float32)\n",
    "        self.y = torch.tensor(y, dtype=torch.long)\n",
    "    \n",
    "    def __len__(self):\n",
    "        return len(self.y)\n",
    "    \n",
    "    def __getitem__(self, idx):\n",
    "        return self.X_feat[idx], self.y[idx]\n",
    "\n",
    "train_dataset = GeneDataset(X_train, y_train)\n",
    "test_dataset = GeneDataset(X_test, y_test)\n",
    "\n",
    "train_loader = DataLoader(train_dataset, batch_size=32, shuffle=True)\n",
    "test_loader = DataLoader(test_dataset, batch_size=32, shuffle=False)"
   ]
  },
  {
   "cell_type": "code",
   "execution_count": 11,
   "id": "3aacbf87-bd50-43fe-bad5-5e71fae7abe3",
   "metadata": {},
   "outputs": [],
   "source": [
    "class SimpleNN(nn.Module):\n",
    "    def __init__(self, input_size, num_classes):\n",
    "        super(SimpleNN, self).__init__()\n",
    "        self.fc1 = nn.Linear(input_size, 64)\n",
    "        self.fc2 = nn.Linear(64, 32)\n",
    "        self.fc3 = nn.Linear(32, num_classes)\n",
    "        self.relu = nn.ReLU()\n",
    "    \n",
    "    def forward(self, x):\n",
    "        x = self.relu(self.fc1(x))\n",
    "        x = self.relu(self.fc2(x))\n",
    "        x = self.fc3(x)\n",
    "        return x"
   ]
  },
  {
   "cell_type": "code",
   "execution_count": 12,
   "id": "f26c3db4-c402-4884-880a-48b8130fe7c0",
   "metadata": {},
   "outputs": [],
   "source": [
    "# Initialize model, loss function, and optimizer\n",
    "input_size = X_train.shape[1]\n",
    "num_classes = len(set(y))\n",
    "model = SimpleNN(input_size, num_classes)\n",
    "criterion = nn.CrossEntropyLoss()\n",
    "optimizer = optim.Adam(model.parameters(), lr=0.001)"
   ]
  },
  {
   "cell_type": "code",
   "execution_count": 13,
   "id": "7a683411-3226-4b78-a59d-363e57f32b86",
   "metadata": {},
   "outputs": [
    {
     "name": "stdout",
     "output_type": "stream",
     "text": [
      "Epoch 1/20, Loss: 0.0275\n",
      "Epoch 2/20, Loss: 0.0038\n",
      "Epoch 3/20, Loss: 0.0167\n",
      "Epoch 4/20, Loss: 0.0390\n",
      "Epoch 5/20, Loss: 0.0007\n",
      "Epoch 6/20, Loss: 0.0015\n",
      "Epoch 7/20, Loss: 0.0007\n",
      "Epoch 8/20, Loss: 0.0002\n",
      "Epoch 9/20, Loss: 0.0001\n",
      "Epoch 10/20, Loss: 0.0008\n",
      "Epoch 11/20, Loss: 0.0001\n",
      "Epoch 12/20, Loss: 0.0008\n",
      "Epoch 13/20, Loss: 0.0006\n",
      "Epoch 14/20, Loss: 0.0016\n",
      "Epoch 15/20, Loss: 0.0064\n",
      "Epoch 16/20, Loss: 0.0176\n",
      "Epoch 17/20, Loss: 0.0001\n",
      "Epoch 18/20, Loss: 0.0005\n",
      "Epoch 19/20, Loss: 0.0002\n",
      "Epoch 20/20, Loss: 0.0000\n"
     ]
    }
   ],
   "source": [
    "# Training function\n",
    "def train_model(model, train_loader, criterion, optimizer, epochs=20):\n",
    "    model.train()\n",
    "    for epoch in range(epochs):\n",
    "        for inputs, labels in train_loader:\n",
    "            optimizer.zero_grad()\n",
    "            outputs = model(inputs)\n",
    "            loss = criterion(outputs, labels)\n",
    "            loss.backward()\n",
    "            optimizer.step()\n",
    "        print(f'Epoch {epoch+1}/{epochs}, Loss: {loss.item():.4f}')\n",
    "\n",
    "train_model(model, train_loader, criterion, optimizer)"
   ]
  },
  {
   "cell_type": "code",
   "execution_count": 14,
   "id": "a011d9c5-8248-46b1-aa15-4c28ade90519",
   "metadata": {},
   "outputs": [
    {
     "name": "stdout",
     "output_type": "stream",
     "text": [
      "              precision    recall  f1-score   support\n",
      "\n",
      "      lncRNA       0.98      0.98      0.98       418\n",
      "       miRNA       0.82      0.92      0.87       388\n",
      "    misc_RNA       0.98      0.91      0.94       479\n",
      "       snRNA       0.98      0.96      0.97       376\n",
      "      snoRNA       0.80      0.77      0.79       198\n",
      "\n",
      "    accuracy                           0.92      1859\n",
      "   macro avg       0.91      0.91      0.91      1859\n",
      "weighted avg       0.93      0.92      0.92      1859\n",
      "\n"
     ]
    },
    {
     "data": {
      "image/png": "[encoded data removed]",
      "text/plain": [
       "<Figure size 1000x800 with 2 Axes>"
      ]
     },
     "metadata": {},
     "output_type": "display_data"
    }
   ],
   "source": [
    "def evaluate_model_with_classification_report(model, test_loader):\n",
    "    model.eval()\n",
    "    all_labels = []\n",
    "    all_predictions = []\n",
    "    \n",
    "    with torch.no_grad():\n",
    "        for inputs, labels in test_loader:\n",
    "            outputs = model(inputs)\n",
    "            _, predicted = torch.max(outputs, 1)\n",
    "            all_labels.extend(labels.cpu().numpy())\n",
    "            all_predictions.extend(predicted.cpu().numpy())\n",
    "    \n",
    "    # Generate classification report\n",
    "    report = classification_report(all_labels, all_predictions, target_names=label_encoder.classes_, output_dict=True)\n",
    "    \n",
    "    # Print classification report\n",
    "    print(classification_report(all_labels, all_predictions, target_names=label_encoder.classes_))\n",
    "\n",
    "    # Generate confusion matrix\n",
    "    conf_matrix = confusion_matrix(all_labels, all_predictions)\n",
    "\n",
    "    # Plot heatmap\n",
    "    plt.figure(figsize=(10, 8))\n",
    "    sns.heatmap(conf_matrix, annot=True, fmt='d', cmap='Blues',\n",
    "                xticklabels=label_encoder.classes_,\n",
    "                yticklabels=label_encoder.classes_)\n",
    "    plt.title('Confusion Matrix Heatmap')\n",
    "    plt.xlabel('Predicted Class')\n",
    "    plt.ylabel('True Class')\n",
    "    plt.show()\n",
    "\n",
    "# Call the evaluation function to get the classification report and the heatmap\n",
    "evaluate_model_with_classification_report(model, test_loader)"
   ]
  },
  {
   "cell_type": "code",
   "execution_count": null,
   "id": "f4132373-671c-4b11-b2af-6425a1ce1ab6",
   "metadata": {},
   "outputs": [],
   "source": []
  }
 ],
 "metadata": {
  "kernelspec": {
   "display_name": "ml-pytorch",
   "language": "python",
   "name": "ml"
  },
  "language_info": {
   "codemirror_mode": {
    "name": "ipython",
    "version": 3
   },
   "file_extension": ".py",
   "mimetype": "text/x-python",
   "name": "python",
   "nbconvert_exporter": "python",
   "pygments_lexer": "ipython3",
   "version": "3.9.20"
  }
 },
 "nbformat": 4,
 "nbformat_minor": 5
}
